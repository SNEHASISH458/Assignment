{
 "cells": [
  {
   "cell_type": "code",
   "execution_count": 4,
   "id": "ee458911-5212-44a7-a5f5-47875cdbb531",
   "metadata": {},
   "outputs": [
    {
     "name": "stderr",
     "output_type": "stream",
     "text": [
      "also installing the dependencies ‘cli’, ‘lifecycle’, ‘rlang’\n",
      "\n",
      "Updating HTML index of packages in '.Library'\n",
      "Making 'packages.html' ... done\n"
     ]
    }
   ],
   "source": [
    "install.packages(\"rvest\")"
   ]
  },
  {
   "cell_type": "code",
   "execution_count": 77,
   "id": "74156a6d-5322-48ea-a565-a67cd0c3d362",
   "metadata": {},
   "outputs": [
    {
     "name": "stderr",
     "output_type": "stream",
     "text": [
      "Updating HTML index of packages in '.Library'\n",
      "Making 'packages.html' ... done\n"
     ]
    }
   ],
   "source": [
    "install.packages(\"cli\")"
   ]
  },
  {
   "cell_type": "code",
   "execution_count": 78,
   "id": "b8af2bf3-3e3b-472b-ad6d-8cf5fab5a3a4",
   "metadata": {},
   "outputs": [
    {
     "name": "stderr",
     "output_type": "stream",
     "text": [
      "Updating HTML index of packages in '.Library'\n",
      "Making 'packages.html' ... done\n"
     ]
    }
   ],
   "source": [
    "install.packages(\"lifecycle\")"
   ]
  },
  {
   "cell_type": "code",
   "execution_count": 79,
   "id": "43766f3d-20b6-428f-9910-8937ee9e7ffc",
   "metadata": {},
   "outputs": [
    {
     "name": "stderr",
     "output_type": "stream",
     "text": [
      "Updating HTML index of packages in '.Library'\n",
      "Making 'packages.html' ... done\n"
     ]
    }
   ],
   "source": [
    "install.packages(\"rlang\")"
   ]
  },
  {
   "cell_type": "code",
   "execution_count": 3,
   "id": "4ad6e4ae-14cd-4d70-ae8c-7ceef00b4d99",
   "metadata": {},
   "outputs": [
    {
     "name": "stderr",
     "output_type": "stream",
     "text": [
      "Updating HTML index of packages in '.Library'\n",
      "Making 'packages.html' ... done\n"
     ]
    }
   ],
   "source": [
    "install.packages(\"httr\")"
   ]
  },
  {
   "cell_type": "code",
   "execution_count": 17,
   "id": "02976e17-ef35-4445-bac9-6a3aafbea056",
   "metadata": {},
   "outputs": [],
   "source": [
    "library(httr)"
   ]
  },
  {
   "cell_type": "code",
   "execution_count": 84,
   "id": "43c60f59-15fc-4903-a41a-2656a3583655",
   "metadata": {},
   "outputs": [],
   "source": [
    "require(\"httr\")"
   ]
  },
  {
   "cell_type": "code",
   "execution_count": 35,
   "id": "bf233aa8-3540-48af-ac36-25b4db670c90",
   "metadata": {},
   "outputs": [],
   "source": [
    "library('xml2')"
   ]
  },
  {
   "cell_type": "code",
   "execution_count": 33,
   "id": "34724c42-d36f-46b2-873b-300035c3c555",
   "metadata": {},
   "outputs": [
    {
     "name": "stderr",
     "output_type": "stream",
     "text": [
      "Updating HTML index of packages in '.Library'\n",
      "Making 'packages.html' ... done\n"
     ]
    }
   ],
   "source": [
    "install.packages('xml2')"
   ]
  },
  {
   "cell_type": "code",
   "execution_count": 2,
   "id": "67022e6b-3c4f-42d6-8963-62936caa2974",
   "metadata": {},
   "outputs": [],
   "source": [
    "get_wiki_covid19_page<-function(){\"https://en.wikipedia.org/w/index.php?title=Template:COVID-19_testing_by_country\"}"
   ]
  },
  {
   "cell_type": "code",
   "execution_count": 3,
   "id": "8d621099-999b-404b-87e9-3e3e05aca771",
   "metadata": {},
   "outputs": [],
   "source": [
    "wiki_base_url <-  \"https://en.wikipedia.org/w/index.php\""
   ]
  },
  {
   "cell_type": "code",
   "execution_count": 4,
   "id": "37d20284-4d61-4808-ad38-dac010488865",
   "metadata": {},
   "outputs": [],
   "source": [
    "wiki_params <- list(title = \"Template:COVID-19_testing_by_country\")"
   ]
  },
  {
   "cell_type": "code",
   "execution_count": 20,
   "id": "8c4e7e79-124d-4895-a2dc-ffaec71a74a6",
   "metadata": {},
   "outputs": [],
   "source": [
    "wiki_response<-GET(\"https://en.wikipedia.org/w/index.php\",query = wiki_params)"
   ]
  },
  {
   "cell_type": "code",
   "execution_count": 82,
   "id": "e3e8b95a-b906-4a73-bd9f-75ea9d4a4eb9",
   "metadata": {},
   "outputs": [],
   "source": [
    "get_wiki_covid19_page_response <- GET(\"https://en.wikipedia.org/w/index.php?title=Template:COVID-19_testing_by_country\")"
   ]
  },
  {
   "cell_type": "code",
   "execution_count": 21,
   "id": "7a890f8c-879c-47e0-b7f3-8cdf203b8246",
   "metadata": {},
   "outputs": [
    {
     "data": {
      "text/plain": [
       "Response [https://en.wikipedia.org/w/index.php?title=Template%3ACOVID-19_testing_by_country]\n",
       "  Date: 2023-02-14 20:15\n",
       "  Status: 200\n",
       "  Content-Type: text/html; charset=UTF-8\n",
       "  Size: 425 kB\n",
       "<!DOCTYPE html>\n",
       "<html class=\"client-nojs vector-feature-language-in-header-enabled vector-fea...\n",
       "<head>\n",
       "<meta charset=\"UTF-8\"/>\n",
       "<title>Template:COVID-19 testing by country - Wikipedia</title>\n",
       "<script>document.documentElement.className=\"client-js vector-feature-language...\n",
       "\"wgCSPNonce\":false,\"wgCanonicalNamespace\":\"Template\",\"wgCanonicalSpecialPageN...\n",
       "\"CS1 Khmer-language sources (km)\",\"CS1 uses Chinese-language script (zh)\",\"CS...\n",
       "\"CS1 foreign language sources (ISO 639-2)\",\"CS1 Burmese-language sources (my)...\n",
       "\"pageLanguageCode\":\"en\",\"pageLanguageDir\":\"ltr\",\"pageVariantFallbacks\":\"en\"},...\n",
       "..."
      ]
     },
     "metadata": {},
     "output_type": "display_data"
    }
   ],
   "source": [
    "return(wiki_response)"
   ]
  },
  {
   "cell_type": "code",
   "execution_count": 83,
   "id": "d73dc786-9696-4a1f-9fb8-477a6d8737bf",
   "metadata": {},
   "outputs": [
    {
     "name": "stdout",
     "output_type": "stream",
     "text": [
      "Response [https://en.wikipedia.org/w/index.php?title=Template:COVID-19_testing_by_country]\n",
      "  Date: 2023-02-14 20:19\n",
      "  Status: 200\n",
      "  Content-Type: text/html; charset=UTF-8\n",
      "  Size: 425 kB\n",
      "<!DOCTYPE html>\n",
      "<html class=\"client-nojs vector-feature-language-in-header-enabled vector-fea...\n",
      "<head>\n",
      "<meta charset=\"UTF-8\"/>\n",
      "<title>Template:COVID-19 testing by country - Wikipedia</title>\n",
      "<script>document.documentElement.className=\"client-js vector-feature-language...\n",
      "\"wgCSPNonce\":false,\"wgCanonicalNamespace\":\"Template\",\"wgCanonicalSpecialPageN...\n",
      "\"CS1 Khmer-language sources (km)\",\"CS1 uses Chinese-language script (zh)\",\"CS...\n",
      "\"CS1 foreign language sources (ISO 639-2)\",\"CS1 Burmese-language sources (my)...\n",
      "\"pageLanguageCode\":\"en\",\"pageLanguageDir\":\"ltr\",\"pageVariantFallbacks\":\"en\"},...\n",
      "...\n"
     ]
    }
   ],
   "source": [
    "print(wiki_covid19_page_response)"
   ]
  },
  {
   "cell_type": "code",
   "execution_count": 76,
   "id": "86684f29-55ec-4c1f-9bb7-34c2ea85c020",
   "metadata": {},
   "outputs": [],
   "source": [
    "wiki_covid19_page_root_node <- read_html(wiki_covid19_page_response)"
   ]
  },
  {
   "cell_type": "code",
   "execution_count": 5,
   "id": "e420bec6-d3c5-4e7e-8a3e-fb626f667649",
   "metadata": {},
   "outputs": [
    {
     "name": "stderr",
     "output_type": "stream",
     "text": [
      "Loading required package: xml2\n"
     ]
    }
   ],
   "source": [
    "library(\"rvest\")"
   ]
  },
  {
   "cell_type": "code",
   "execution_count": 6,
   "id": "d15f0d81-9577-4383-9c01-8c937f1e798e",
   "metadata": {},
   "outputs": [
    {
     "name": "stderr",
     "output_type": "stream",
     "text": [
      "Updating HTML index of packages in '.Library'\n",
      "Making 'packages.html' ... done\n"
     ]
    }
   ],
   "source": [
    "install.packages(\"xml2\")"
   ]
  },
  {
   "cell_type": "code",
   "execution_count": 7,
   "id": "5e46708e-3fbe-4010-814b-99d09fec4bbb",
   "metadata": {},
   "outputs": [],
   "source": [
    "library(\"rvest\")"
   ]
  },
  {
   "cell_type": "code",
   "execution_count": 27,
   "id": "aab610fc-7f42-48b1-9659-c4349f6c145d",
   "metadata": {},
   "outputs": [
    {
     "data": {
      "text/plain": [
       "{html_document}\n",
       "<html class=\"client-nojs vector-feature-language-in-header-enabled vector-feature-language-in-main-page-header-disabled vector-feature-language-alert-in-sidebar-enabled vector-feature-sticky-header-disabled vector-feature-page-tools-disabled vector-feature-page-tools-pinned-disabled vector-feature-main-menu-pinned-disabled vector-feature-limited-width-enabled vector-feature-limited-width-content-enabled\" lang=\"en\" dir=\"ltr\">\n",
       "[1] <head>\\n<meta http-equiv=\"Content-Type\" content=\"text/html; charset=UTF-8 ...\n",
       "[2] <body class=\"skin-vector skin-vector-search-vue vector-toc-pinned mediawi ..."
      ]
     },
     "metadata": {},
     "output_type": "display_data"
    }
   ],
   "source": [
    "read_html(\"https://en.wikipedia.org/w/index.php?title=Template:COVID-19_testing_by_country\",\"table\")"
   ]
  },
  {
   "cell_type": "code",
   "execution_count": 28,
   "id": "088461dd-aa08-4623-ae32-9998fded14f8",
   "metadata": {},
   "outputs": [],
   "source": [
    "root_node<-read_html(\"https://en.wikipedia.org/w/index.php?title=Template:COVID-19_testing_by_country\",\"table\")"
   ]
  },
  {
   "cell_type": "code",
   "execution_count": 29,
   "id": "696b65ad-95c7-49ff-b9f8-d62dc69f22be",
   "metadata": {},
   "outputs": [],
   "source": [
    "wiki_covid19_page_table_node <- html_node(root_node, \"table\")"
   ]
  },
  {
   "cell_type": "code",
   "execution_count": 30,
   "id": "867ad793-404b-4856-8901-15027a11c4f3",
   "metadata": {},
   "outputs": [],
   "source": [
    "wiki_covid19_page_data_frame <- html_table(wiki_covid19_page_table_node)"
   ]
  },
  {
   "cell_type": "code",
   "execution_count": 18,
   "id": "3aadc475-5543-4955-8fa9-f39655863e6f",
   "metadata": {},
   "outputs": [
    {
     "name": "stdout",
     "output_type": "stream",
     "text": [
      "[1] \"wiki_covid19_page_data_frame\"\n"
     ]
    }
   ],
   "source": [
    "print(\"wiki_covid19_page_data_frame\")"
   ]
  },
  {
   "cell_type": "code",
   "execution_count": 20,
   "id": "e5069108-24d7-4062-af6a-642542c1997c",
   "metadata": {},
   "outputs": [
    {
     "data": {
      "text/html": [
       "<table>\n",
       "<caption>A data.frame: 1 × 1</caption>\n",
       "<thead>\n",
       "\t<tr><th scope=col>\"wiki_covid19_page_table_node\"</th></tr>\n",
       "\t<tr><th scope=col>&lt;fct&gt;</th></tr>\n",
       "</thead>\n",
       "<tbody>\n",
       "\t<tr><td>wiki_covid19_page_table_node</td></tr>\n",
       "</tbody>\n",
       "</table>\n"
      ],
      "text/latex": [
       "A data.frame: 1 × 1\n",
       "\\begin{tabular}{l}\n",
       " \"wiki\\_covid19\\_page\\_table\\_node\"\\\\\n",
       " <fct>\\\\\n",
       "\\hline\n",
       "\t wiki\\_covid19\\_page\\_table\\_node\\\\\n",
       "\\end{tabular}\n"
      ],
      "text/markdown": [
       "\n",
       "A data.frame: 1 × 1\n",
       "\n",
       "| \"wiki_covid19_page_table_node\" &lt;fct&gt; |\n",
       "|---|\n",
       "| wiki_covid19_page_table_node |\n",
       "\n"
      ],
      "text/plain": [
       "  \"wiki_covid19_page_table_node\"\n",
       "1 wiki_covid19_page_table_node  "
      ]
     },
     "metadata": {},
     "output_type": "display_data"
    }
   ],
   "source": [
    "as.data.frame(\"wiki_covid19_page_table_node\")"
   ]
  },
  {
   "cell_type": "code",
   "execution_count": 24,
   "id": "ddc8775b-30fa-47a5-8752-ccb9382b0e6c",
   "metadata": {},
   "outputs": [
    {
     "data": {
      "text/plain": [
       "    X1               X2           \n",
       " Mode:logical   Length:1          \n",
       " NA's:1         Class :character  \n",
       "                Mode  :character  "
      ]
     },
     "metadata": {},
     "output_type": "display_data"
    }
   ],
   "source": [
    "summary(wiki_covid19_page_data_frame)"
   ]
  },
  {
   "cell_type": "code",
   "execution_count": null,
   "id": "0d3e1e43-c546-4925-ad62-2ae99592f571",
   "metadata": {},
   "outputs": [],
   "source": []
  }
 ],
 "metadata": {
  "kernelspec": {
   "display_name": "R",
   "language": "R",
   "name": "conda-env-r-r"
  },
  "language_info": {
   "codemirror_mode": "r",
   "file_extension": ".r",
   "mimetype": "text/x-r-source",
   "name": "R",
   "pygments_lexer": "r",
   "version": "3.5.1"
  }
 },
 "nbformat": 4,
 "nbformat_minor": 5
}
